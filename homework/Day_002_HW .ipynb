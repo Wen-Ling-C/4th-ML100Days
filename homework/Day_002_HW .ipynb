{
 "cells": [
  {
   "cell_type": "markdown",
   "metadata": {},
   "source": [
    "## [作業目標]\n",
    "了解機器學習適合應用的領域與範疇。"
   ]
  },
  {
   "cell_type": "markdown",
   "metadata": {},
   "source": [
    "## [作業重點]\n",
    "透過瞭解機器學習的運作方式，找出非常適用機器學習應用的領域及其原因"
   ]
  },
  {
   "cell_type": "markdown",
   "metadata": {},
   "source": [
    "## 作業\n",
    "請找出一個你認為機器學習可以發光發熱的領域並闡述原因? \n",
    "\n",
    "大眾文化的各領域(流行音樂、節目、電影...等等)\n",
    "\n",
    "機器學習需要大量的資料基礎增加其預測之精準度，大眾文化下各產業皆有近十幾年的數據。\n",
    "\n",
    "大眾文化代表著這一世代普遍價值觀認知(已是平均值)，在模型測試時，除了舊有資料驗證，也能實際測試大眾反映，因此能擁有良好的回饋。\n",
    "\n",
    "這些對於後續模型預測結果也將擁有良好的影響力。\n",
    "\n",
    "以流行音樂來說，透過大眾熱愛之歌曲，尋找其背後相同之旋律組合，可以相同模式製造下一首發燒音樂或是從新人自創曲中辨識將來會成為熱門歌曲的人選。\n",
    "\n",
    "大眾文化適合機器學習的優勢可歸納出以下幾點：\n",
    "\n",
    "1.大量的資料(熱門排行、交易量、族群分布、交易時間點、交易平台)\n",
    "\n",
    "2.訓練模型的環境除了模擬環境(既有資料)也可以使用實際市場測試(未知結果)\n",
    "\n",
    "3.訓練之模型具有龐大效益(廠商、廣告商)\n",
    "\n",
    "4.變動性，可重複測試(每一世代的文化不盡相同，可透過年份限縮各時代人們的喜好)\n"
   ]
  },
  {
   "cell_type": "code",
   "execution_count": null,
   "metadata": {},
   "outputs": [],
   "source": [
    "   "
   ]
  }
 ],
 "metadata": {
  "kernelspec": {
   "display_name": "Python 3",
   "language": "python",
   "name": "python3"
  },
  "language_info": {
   "codemirror_mode": {
    "name": "ipython",
    "version": 3
   },
   "file_extension": ".py",
   "mimetype": "text/x-python",
   "name": "python",
   "nbconvert_exporter": "python",
   "pygments_lexer": "ipython3",
   "version": "3.6.5"
  }
 },
 "nbformat": 4,
 "nbformat_minor": 2
}
